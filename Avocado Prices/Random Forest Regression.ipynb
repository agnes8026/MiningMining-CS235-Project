{
 "cells": [
  {
   "cell_type": "markdown",
   "metadata": {},
   "source": [
    "# Predict Avocado Price with Random Forest Regression"
   ]
  },
  {
   "cell_type": "code",
   "execution_count": 10,
   "metadata": {},
   "outputs": [],
   "source": [
    "import os\n",
    "import pandas as pd\n",
    "import numpy as np\n",
    "from sklearn.model_selection import train_test_split\n",
    "import matplotlib.pyplot as plt\n",
    "import seaborn as sns"
   ]
  },
  {
   "cell_type": "markdown",
   "metadata": {},
   "source": [
    "## Load data & preprocessing"
   ]
  },
  {
   "cell_type": "code",
   "execution_count": 11,
   "metadata": {},
   "outputs": [],
   "source": [
    "data = pd.read_csv('../data/avocado.csv')"
   ]
  },
  {
   "cell_type": "code",
   "execution_count": 12,
   "metadata": {},
   "outputs": [],
   "source": [
    "data['Date'] = pd.to_datetime(data['Date'])"
   ]
  },
  {
   "cell_type": "code",
   "execution_count": 13,
   "metadata": {},
   "outputs": [
    {
     "name": "stdout",
     "output_type": "stream",
     "text": [
      "      Unnamed: 0       Date  AveragePrice  Total Volume       4046       4225  \\\n",
      "6514          50 2017-01-15          1.44     251547.43   47536.54  126095.12   \n",
      "2899          39 2016-03-27          0.98     458635.34  286918.40   59289.93   \n",
      "\n",
      "         4770  Total Bags  Small Bags  Large Bags  XLarge Bags          type  \\\n",
      "6514   791.62    77124.15    75330.56     1793.59         0.00  conventional   \n",
      "2899  1320.02   111106.99    78824.96    32268.42        13.61  conventional   \n",
      "\n",
      "      year              region  conventional  organic  \n",
      "6514  2017  HarrisburgScranton             1        0  \n",
      "2899  2016             Atlanta             1        0  \n"
     ]
    }
   ],
   "source": [
    "# convert type into \n",
    "dummy_type = pd.get_dummies(data['type'])\n",
    "data = pd.concat([data, dummy_type], axis=1)\n",
    "print(data.sample(2))"
   ]
  },
  {
   "cell_type": "code",
   "execution_count": 14,
   "metadata": {},
   "outputs": [
    {
     "data": {
      "text/plain": [
       "224       4\n",
       "12677    14\n",
       "3293      9\n",
       "Name: region, dtype: int8"
      ]
     },
     "execution_count": 14,
     "metadata": {},
     "output_type": "execute_result"
    }
   ],
   "source": [
    "# convert region into categorical variables\n",
    "data['region'] = data['region'].astype('category')\n",
    "data['region'] = data['region'].cat.codes\n",
    "data['region'].sample(3)"
   ]
  },
  {
   "cell_type": "code",
   "execution_count": 15,
   "metadata": {
    "scrolled": true
   },
   "outputs": [
    {
     "data": {
      "text/plain": [
       "1    5508\n",
       "4    4319\n",
       "3    4212\n",
       "2    4210\n",
       "Name: Date_Q, dtype: int64"
      ]
     },
     "execution_count": 15,
     "metadata": {},
     "output_type": "execute_result"
    }
   ],
   "source": [
    "# re-scale Date into quarters\n",
    "data['Date_Q'] = data['Date'].apply(lambda x: x.quarter)\n",
    "data['Date_Q'].value_counts()"
   ]
  },
  {
   "cell_type": "markdown",
   "metadata": {},
   "source": [
    "## Implement Random Forest Regression from scratch"
   ]
  },
  {
   "cell_type": "code",
   "execution_count": 16,
   "metadata": {},
   "outputs": [],
   "source": [
    "class RandomForestRegression():\n",
    "    \"\"\"\n",
    "    Implement Python version of Random Forest Regression model from scratch.\n",
    "    \"\"\"\n",
    "\n",
    "    def __init__(self, n_estimators, min_leaf_sz=5, max_depth=None):\n",
    "        self._n_estimators = n_estimators\n",
    "        self._sample_sz = 0\n",
    "        self._min_leaf_sz = min_leaf_sz\n",
    "        self._max_depth = max_depth\n",
    "        self._trees = [self._create_tree() for i in range(self._n_estimators)]\n",
    "    \n",
    "    def _get_sample_data(self, bootstrap=True):\n",
    "        \"\"\"\n",
    "        Generate training data for each decision tree\n",
    "        \n",
    "        Parameters\n",
    "        ----------\n",
    "        bootstrap: boolean value, True/False\n",
    "            The default value is True, it would bootstrap sample from \n",
    "            input training data. If False, the exclusive sampling will\n",
    "            be performed.\n",
    "            \n",
    "        Returns\n",
    "        -------\n",
    "        idxs: array-like object\n",
    "            Return the indices of sampled data from input training data\n",
    "        \"\"\"\n",
    "        if bootstrap:\n",
    "            idxs = np.random.choice(len(self._X), self._sample_sz)\n",
    "        else:\n",
    "            idxs = np.random.permutation(len(self._X))[:self._sample_sz]\n",
    "        return idxs\n",
    "    \n",
    "    def _create_tree(self):\n",
    "        \"\"\"\n",
    "        Buliding decision tree\n",
    "        \n",
    "        Returns\n",
    "        -------\n",
    "        tree: DTreeRegressor object\n",
    "        \"\"\"\n",
    "        return DTreeRegressor(self._min_leaf_sz, self._max_depth)\n",
    "    \n",
    "    def _fit_single_tree(self, tree):\n",
    "        \"\"\"\n",
    "        Fit single decision tree\n",
    "\n",
    "        Parameters\n",
    "        ----------\n",
    "        tree : DTreeRegressor object\n",
    "        \n",
    "        Returns\n",
    "        -------\n",
    "        tree : DTreeRegressor object\n",
    "        \"\"\"\n",
    "        sample_idxs = self._get_sample_data()\n",
    "        return tree.fit(self._X.iloc[sample_idxs], self._y[sample_idxs])\n",
    "    \n",
    "    def fit(self, X, y):\n",
    "        \"\"\"\n",
    "        Training a Random Forest Regression model\n",
    "\n",
    "        Parameters\n",
    "        ----------\n",
    "        X : DataFrame,\n",
    "            The training input samples.\n",
    "            \n",
    "        y : Series or array-like object\n",
    "            The target values.\n",
    "        \"\"\"\n",
    "        self._X = X\n",
    "        self._y = y\n",
    "        self._sample_sz = self._X.shape[0]\n",
    "        for tree in self._trees:\n",
    "            self._fit_single_tree(tree)\n",
    "    \n",
    "    def predict(self, X):\n",
    "        \"\"\"\n",
    "        Predict data with trained model\n",
    "\n",
    "        Parameters\n",
    "        ---------\n",
    "        X : DataFrame or array-like object\n",
    "           input samples\n",
    "           \n",
    "        Returns\n",
    "        -------\n",
    "        preds : array-like object\n",
    "            predicted target values\n",
    "        \"\"\"\n",
    "        preds = np.stack([tree.predict(X) for tree in self._trees])\n",
    "        return np.mean(preds, axis=0)\n",
    "    \n",
    "    @property\n",
    "    def feature_importances_(self):\n",
    "        \"\"\"\n",
    "        Calculate feature importance\n",
    "        \n",
    "        Returns\n",
    "        -------\n",
    "        self._feature_importances : array-like object\n",
    "            the importance score of each feature \n",
    "        \"\"\"\n",
    "        if not hasattr(self, '_feature_importances'):\n",
    "            norm_imp = np.zeros(len(self._X.columns))\n",
    "            for tree in self._trees:\n",
    "                t_imp = tree.calc_feature_importance()\n",
    "                norm_imp = norm_imp + t_imp / np.sum(t_imp)\n",
    "            self._feature_importances = norm_imp / self._n_estimators\n",
    "        return self._feature_importances\n",
    "\n",
    "\n",
    "class DTreeRegressor():\n",
    "    \"\"\"\n",
    "    Create Decision Tree Regression object\n",
    "    \"\"\"\n",
    "\n",
    "    def __init__(self, min_leaf_sz, max_depth=None):\n",
    "        self._score = float('inf')\n",
    "        self._split_point = 0\n",
    "        self._split_col_idx = 0\n",
    "        self._node_importance = 0\n",
    "        self._feature_importances = []\n",
    "        self._sample_sz = 0\n",
    "        self._left_child_tree = None\n",
    "        self._right_child_tree = None\n",
    "        self._min_leaf_sz = min_leaf_sz\n",
    "        if max_depth is not None:\n",
    "            max_depth -= 1\n",
    "        self._max_depth = max_depth\n",
    "\n",
    "    def fit(self, X, y):\n",
    "        \"\"\"\n",
    "        Training model\n",
    "        \"\"\"\n",
    "        self._X = X\n",
    "        self._y = y\n",
    "        self._col_names = self._X.columns\n",
    "        self._feature_importances = np.zeros(len(self._col_names))\n",
    "        self._sample_sz = len(self._X)\n",
    "        self._val = np.mean(self._y)\n",
    "        if self._max_depth is not None and self._max_depth < 2: \n",
    "            return self\n",
    "        self._find_best_split()\n",
    "        return self\n",
    "    \n",
    "    def _find_best_split(self):\n",
    "        for col_idx in range(len(self._col_names)):\n",
    "            self._find_col_best_split_point(col_idx)\n",
    "        \n",
    "        self._feature_importances[self._split_col_idx] = self._node_importance\n",
    "        if self.is_leaf:\n",
    "            return\n",
    "        \n",
    "        lchild_sample_idxs = np.nonzero(self.split_col <= self.split_point)[0]\n",
    "        rchild_sample_idxs = np.nonzero(self.split_col > self.split_point)[0]\n",
    "\n",
    "        self._left_child_tree = (DTreeRegressor(self._min_leaf_sz, self._max_depth).fit(self._X.iloc[lchild_sample_idxs], self._y[lchild_sample_idxs]))\n",
    "        self._right_child_tree = (DTreeRegressor(self._min_leaf_sz, self._max_depth).fit(self._X.iloc[rchild_sample_idxs], self._y[rchild_sample_idxs]))\n",
    "\n",
    "    def _find_col_best_split_point(self, col_idx):\n",
    "        # sort X and y by single column\n",
    "        X_col = self._X.values[:, col_idx]\n",
    "        sorted_idxs = np.argsort(X_col)\n",
    "        X_sorted = X_col[sorted_idxs]\n",
    "        y_sorted = self._y[sorted_idxs]\n",
    "        \n",
    "        lchild_n_samples = 0\n",
    "        lchild_y_sum = 0.0\n",
    "        lchild_y_square_sum = 0.0\n",
    "\n",
    "        rchild_n_samples = self._sample_sz\n",
    "        rchild_y_sum = y_sorted.sum()\n",
    "        rchild_y_square_sum = (y_sorted ** 2).sum()\n",
    "\n",
    "        node_y_sum = rchild_y_sum\n",
    "        node_y_square_sum = rchild_y_square_sum\n",
    "\n",
    "        for i in range(0, self._sample_sz - self._min_leaf_sz):\n",
    "            xi, yi = X_sorted[i], y_sorted[i]\n",
    "            rchild_n_samples -= 1\n",
    "            rchild_y_sum -= yi\n",
    "            rchild_y_square_sum -= yi ** 2\n",
    "            lchild_n_samples += 1\n",
    "            lchild_y_sum += yi\n",
    "            lchild_y_square_sum += yi ** 2\n",
    "\n",
    "            if i < self._min_leaf_sz or xi == X_sorted[i + 1]:\n",
    "                continue\n",
    "\n",
    "            lchild_impurity = self._calc_mse_impurity(lchild_y_square_sum, lchild_y_sum, lchild_n_samples)\n",
    "            rchild_impurity = self._calc_mse_impurity(rchild_y_square_sum, rchild_y_sum, rchild_n_samples)\n",
    "            split_score = (lchild_n_samples * lchild_impurity + rchild_n_samples * rchild_impurity) / self._sample_sz\n",
    "            \n",
    "            if split_score < self._score:\n",
    "                self._score = split_score\n",
    "                self._split_point = xi\n",
    "                self._split_col_idx = col_idx\n",
    "                self._node_importance = self._sample_sz * (self._calc_mse_impurity(node_y_square_sum, node_y_sum, self._sample_sz) - split_score)\n",
    "\n",
    "    def _calc_mse_impurity(self, y_square_sum, y_sum, y_n):\n",
    "        \"\"\"\n",
    "        Calculate Mean Squared Error impurity\n",
    "\n",
    "        Parameters\n",
    "        ----------\n",
    "        y_squared_sum: float or int , the sum of y squared \n",
    "        y_sum: float or int , the sum of y value\n",
    "        y_n: int, the number of samples\n",
    "\n",
    "        Returns\n",
    "        -------\n",
    "        MSE value\n",
    "        \"\"\"\n",
    "        return (y_square_sum / y_n) - (y_sum / y_n) ** 2  # todo: study this formula\n",
    "\n",
    "    def predict(self, X):\n",
    "        if type(X) == pd.DataFrame:\n",
    "            X = X.values\n",
    "        return np.array([self._predict_row(row) for row in X])\n",
    "    \n",
    "    def _predict_row(self, row):\n",
    "        if self.is_leaf:\n",
    "            return self._val\n",
    "        t = (self._left_child_tree if row[self._split_col_idx] <= self.split_point else self._right_child_tree)\n",
    "        return t._predict_row(row)\n",
    "    \n",
    "    def calc_feature_importance(self):\n",
    "        if self.is_leaf:\n",
    "            return self._feature_importances\n",
    "        return (self._feature_importances \n",
    "                + self._left_child_tree.calc_feature_importance()\n",
    "                + self._right_child_tree.calc_feature_importance()\n",
    "               )\n",
    "\n",
    "    @property\n",
    "    def split_name(self):\n",
    "        return self._col_names[self._split_col_idx]\n",
    "\n",
    "    @property\n",
    "    def split_col(self):\n",
    "        return self._X.iloc[:, self._split_col_idx]\n",
    "    \n",
    "    @property\n",
    "    def is_leaf(self):\n",
    "        return self._score == float('inf')\n",
    "    \n",
    "    @property\n",
    "    def split_point(self):\n",
    "        return self._split_point\n"
   ]
  },
  {
   "cell_type": "markdown",
   "metadata": {},
   "source": [
    "## Build models"
   ]
  },
  {
   "cell_type": "code",
   "execution_count": 17,
   "metadata": {},
   "outputs": [
    {
     "data": {
      "text/plain": [
       "((18249, 13), (18249,))"
      ]
     },
     "execution_count": 17,
     "metadata": {},
     "output_type": "execute_result"
    }
   ],
   "source": [
    "X_columns = ['Total Volume', '4046', '4225', '4770', 'Total Bags', 'Small Bags', 'Large Bags', 'XLarge Bags', 'conventional', 'organic', \n",
    "             'Date_Q', 'year', 'region']\n",
    "X = data[X_columns]\n",
    "y = data['AveragePrice']\n",
    "X.shape, y.shape"
   ]
  },
  {
   "cell_type": "code",
   "execution_count": 18,
   "metadata": {},
   "outputs": [
    {
     "data": {
      "text/plain": [
       "((14599, 13), (3650, 13), (14599,), (3650,))"
      ]
     },
     "execution_count": 18,
     "metadata": {},
     "output_type": "execute_result"
    }
   ],
   "source": [
    "# train/test split\n",
    "X_train, X_test, y_train, y_test = train_test_split(X, y, test_size=0.2, random_state=1)\n",
    "X_train.shape, X_test.shape, y_train.shape, y_test.shape"
   ]
  },
  {
   "cell_type": "markdown",
   "metadata": {},
   "source": [
    "## Training / predicting models"
   ]
  },
  {
   "cell_type": "code",
   "execution_count": 19,
   "metadata": {},
   "outputs": [],
   "source": [
    "# Build random forest regression model\n",
    "model = RandomForestRegression(n_estimators=128, max_depth=60)"
   ]
  },
  {
   "cell_type": "code",
   "execution_count": 20,
   "metadata": {},
   "outputs": [
    {
     "name": "stdout",
     "output_type": "stream",
     "text": [
      "Wall time: 8.05 s\n"
     ]
    }
   ],
   "source": [
    "%%time\n",
    "model.fit(X_train, np.array(y_train))"
   ]
  },
  {
   "cell_type": "code",
   "execution_count": 21,
   "metadata": {},
   "outputs": [],
   "source": [
    "y_pred = model.predict(X_test)"
   ]
  },
  {
   "cell_type": "code",
   "execution_count": 22,
   "metadata": {},
   "outputs": [
    {
     "data": {
      "text/plain": [
       "array([1.65032748, 1.15400174, 1.15400174, ..., 1.15400174, 1.15400174,\n",
       "       1.65032748])"
      ]
     },
     "execution_count": 22,
     "metadata": {},
     "output_type": "execute_result"
    }
   ],
   "source": [
    "y_pred"
   ]
  },
  {
   "cell_type": "markdown",
   "metadata": {},
   "source": [
    "## Evaluation"
   ]
  },
  {
   "cell_type": "code",
   "execution_count": 95,
   "metadata": {},
   "outputs": [
    {
     "data": {
      "text/plain": [
       "array([0.0325676 , 0.09225299, 0.07948729, 0.03739179, 0.0383171 ,\n",
       "       0.04052469, 0.09294673, 0.0087996 , 0.09054837, 0.30988103,\n",
       "       0.05942869, 0.07019839, 0.04765573])"
      ]
     },
     "execution_count": 95,
     "metadata": {},
     "output_type": "execute_result"
    }
   ],
   "source": [
    "model.feature_importances_"
   ]
  },
  {
   "cell_type": "code",
   "execution_count": 102,
   "metadata": {},
   "outputs": [
    {
     "name": "stdout",
     "output_type": "stream",
     "text": [
      "MASE for test set: 0.07562438192714921\n",
      "RMSE for test set: 0.14732812736126935\n"
     ]
    }
   ],
   "source": [
    "from sklearn.metrics import mean_absolute_error,mean_squared_error\n",
    "print('MASE for test set: {}'.format(np.mean(np.abs(y_pred - y_test) / np.abs(y_test))))\n",
    "print('RMSE for test set: {}'.format(np.sqrt(mean_squared_error(y_pred, y_test))))"
   ]
  },
  {
   "cell_type": "code",
   "execution_count": 106,
   "metadata": {
    "scrolled": true
   },
   "outputs": [
    {
     "data": {
      "text/plain": [
       "<matplotlib.axes._subplots.AxesSubplot at 0x1ebd4ee3cf8>"
      ]
     },
     "execution_count": 106,
     "metadata": {},
     "output_type": "execute_result"
    },
    {
     "data": {
      "image/png": "[encoded data removed]",
      "text/plain": [
       "<Figure size 432x288 with 1 Axes>"
      ]
     },
     "metadata": {},
     "output_type": "display_data"
    }
   ],
   "source": [
    "sns.set(font_scale=1)\n",
    "sns.distplot((y_test-y_pred),bins=50)"
   ]
  },
  {
   "cell_type": "code",
   "execution_count": 85,
   "metadata": {},
   "outputs": [],
   "source": [
    "importances = model.feature_importances_"
   ]
  },
  {
   "cell_type": "code",
   "execution_count": 86,
   "metadata": {},
   "outputs": [],
   "source": [
    "weights = pd.Series(importances,\n",
    "                 index=X.columns.values)"
   ]
  },
  {
   "cell_type": "code",
   "execution_count": 97,
   "metadata": {},
   "outputs": [
    {
     "data": {
      "text/plain": [
       "<matplotlib.axes._subplots.AxesSubplot at 0x1eaae80dd68>"
      ]
     },
     "execution_count": 97,
     "metadata": {},
     "output_type": "execute_result"
    },
    {
     "data": {
      "image/png": "[encoded data removed]",
      "text/plain": [
       "<Figure size 864x864 with 1 Axes>"
      ]
     },
     "metadata": {},
     "output_type": "display_data"
    }
   ],
   "source": [
    "plt.figure(figsize=(12, 12))\n",
    "weights.sort_values()[-10:].plot(kind = 'barh', title='Most Important Features', fontsize=16)"
   ]
  },
  {
   "cell_type": "code",
   "execution_count": null,
   "metadata": {},
   "outputs": [],
   "source": []
  }
 ],
 "metadata": {
  "kernelspec": {
   "display_name": "Python 3",
   "language": "python",
   "name": "python3"
  },
  "language_info": {
   "codemirror_mode": {
    "name": "ipython",
    "version": 3
   },
   "file_extension": ".py",
   "mimetype": "text/x-python",
   "name": "python",
   "nbconvert_exporter": "python",
   "pygments_lexer": "ipython3",
   "version": "3.7.1"
  }
 },
 "nbformat": 4,
 "nbformat_minor": 2
}
